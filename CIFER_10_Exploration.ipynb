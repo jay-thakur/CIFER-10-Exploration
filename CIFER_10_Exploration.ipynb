{
  "nbformat": 4,
  "nbformat_minor": 0,
  "metadata": {
    "colab": {
      "name": "CIFER-10-Exploration.ipynb",
      "provenance": [],
      "collapsed_sections": [],
      "mount_file_id": "10RtA7OxdV8XT-p2BsOtCTz2w6s-wVL_f",
      "authorship_tag": "ABX9TyNfrHg43W+Hkf5Ujy4YhlFo",
      "include_colab_link": true
    },
    "kernelspec": {
      "name": "python3",
      "display_name": "Python 3"
    },
    "accelerator": "GPU"
  },
  "cells": [
    {
      "cell_type": "markdown",
      "metadata": {
        "id": "view-in-github",
        "colab_type": "text"
      },
      "source": [
        "<a href=\"https://colab.research.google.com/github/jay-thakur/CIFER-10-Exploration/blob/main/CIFER_10_Exploration.ipynb\" target=\"_parent\"><img src=\"https://colab.research.google.com/assets/colab-badge.svg\" alt=\"Open In Colab\"/></a>"
      ]
    },
    {
      "cell_type": "code",
      "metadata": {
        "colab": {
          "base_uri": "https://localhost:8080/"
        },
        "id": "iQx9Zmq7GR0L",
        "outputId": "9e8c42ff-8613-41f4-a3e0-6cde5ca804bf"
      },
      "source": [
        "cd '/content/drive/MyDrive/All/MS/DM/Notebooks/Assignments'"
      ],
      "execution_count": 37,
      "outputs": [
        {
          "output_type": "stream",
          "text": [
            "/content/drive/MyDrive/All/MS/DM/Notebooks/Assignments\n"
          ],
          "name": "stdout"
        }
      ]
    },
    {
      "cell_type": "markdown",
      "metadata": {
        "id": "3Cwxjhs2H8ww"
      },
      "source": [
        "# TRAINING A CLASSIFIER on CIFER10 dataset\n",
        "\n",
        "CIFER-10 is dataset of 32*32 size colored images by [CIFER Institute](https://www.cs.toronto.edu/~kriz/cifar.html), which consists 10 classes ('airplane', 'automobile', 'bird', 'cat', 'deer', 'dog', 'frog', 'horse', 'ship', 'truck').\n",
        "\n",
        "## Steps to Train an image classifier\n",
        "\n",
        "We will do the following steps in order:\n",
        "\n",
        "1. Load and normalizing the CIFAR10 training and test datasets using torchvision\n",
        "2. Define a Convolutional Neural Network\n",
        "3. Define a loss function\n",
        "4. Train the network on the training data\n",
        "5. Test the network on the test data"
      ]
    },
    {
      "cell_type": "code",
      "metadata": {
        "id": "LiaODODfEwO3"
      },
      "source": [
        "# import all the required libraries\n",
        "import numpy as np\n",
        "\n",
        "import torch\n",
        "import torchvision\n",
        "import torchvision.transforms as transforms\n",
        "\n",
        "import matplotlib.pyplot as plt\n",
        "%matplotlib inline\n",
        "\n",
        "from torch import nn\n",
        "import torch.nn.functional as F\n",
        "import torch.optim as optim\n",
        "from torchsummary import summary"
      ],
      "execution_count": 38,
      "outputs": []
    },
    {
      "cell_type": "markdown",
      "metadata": {
        "id": "a6oxYROjI_XN"
      },
      "source": [
        "## 1. Loading and Normalizing CIFAR10"
      ]
    },
    {
      "cell_type": "code",
      "metadata": {
        "colab": {
          "base_uri": "https://localhost:8080/"
        },
        "id": "bFPH5Dbmgl6Q",
        "outputId": "7df2cac2-2ec9-4204-a19f-82602f1e9a34"
      },
      "source": [
        "transform = transforms.Compose([\n",
        "                                transforms.ToTensor(),\n",
        "                                transforms.Normalize((0.5, 0.5, 0.5), (0.5, 0.5, 0.5))\n",
        "])\n",
        "\n",
        "trainset = torchvision.datasets.CIFAR10(root='./data', train=True, download=True, transform=transform)\n",
        "trainloader = torch.utils.data.DataLoader(trainset, batch_size=4, shuffle=True, num_workers=2)\n",
        "\n",
        "testset = torchvision.datasets.CIFAR10(root='./data', train=False, download=True, transform=transform)\n",
        "testloader = torch.utils.data.DataLoader(testset, batch_size=4, shuffle=False, num_workers=2)\n",
        "\n",
        "classes = ('plane', 'car', 'bird', 'cat', 'deer', 'dog', 'frog', 'horse', 'ship', 'truck')"
      ],
      "execution_count": 39,
      "outputs": [
        {
          "output_type": "stream",
          "text": [
            "Files already downloaded and verified\n",
            "Files already downloaded and verified\n"
          ],
          "name": "stdout"
        }
      ]
    },
    {
      "cell_type": "markdown",
      "metadata": {
        "id": "SLDHlogyJHgY"
      },
      "source": [
        "Let's see some of the training images"
      ]
    },
    {
      "cell_type": "code",
      "metadata": {
        "colab": {
          "base_uri": "https://localhost:8080/",
          "height": 172
        },
        "id": "jIZ6c4KqjxAa",
        "outputId": "0f8048be-917f-49cd-c36e-4125a0533de4"
      },
      "source": [
        "# function to show an image\n",
        "def imshow(img):\n",
        "  img = img / 2 + 0.5 #unnormalize\n",
        "  npimg = img.numpy()\n",
        "  plt.imshow(np.transpose(npimg, (1, 2, 0)))\n",
        "  plt.show()\n",
        "\n",
        "# get some training images\n",
        "dataiter = iter(trainloader)\n",
        "images, labels = dataiter.next()\n",
        "\n",
        "image_shape = images.numpy().shape[1:]\n",
        "print(\"Images Shape : \", image_shape)\n",
        "\n",
        "# show images\n",
        "imshow(torchvision.utils.make_grid(images))\n",
        "\n",
        "# print labels\n",
        "print(' '.join('%5s' %classes[labels[i]] for i in range(4)))"
      ],
      "execution_count": 40,
      "outputs": [
        {
          "output_type": "stream",
          "text": [
            "Images Shape :  (3, 32, 32)\n"
          ],
          "name": "stdout"
        },
        {
          "output_type": "display_data",
          "data": {
            "image/png": "[encoded data removed]",
            "text/plain": [
              "<Figure size 432x288 with 1 Axes>"
            ]
          },
          "metadata": {
            "tags": [],
            "needs_background": "light"
          }
        },
        {
          "output_type": "stream",
          "text": [
            " ship truck  frog  bird\n"
          ],
          "name": "stdout"
        }
      ]
    },
    {
      "cell_type": "markdown",
      "metadata": {
        "id": "ofcKVGXTJY4p"
      },
      "source": [
        "### 2. Define a Convolutional Neural Network\n",
        "\n",
        "CNN consists of - \n",
        "1. Conv layer\n",
        "2. Max Pool Layer\n",
        "3. Fully Connected Layer"
      ]
    },
    {
      "cell_type": "code",
      "metadata": {
        "colab": {
          "base_uri": "https://localhost:8080/"
        },
        "id": "UILWGEz6r-Jz",
        "outputId": "abf0c03e-ad57-45f7-ed51-5df809fec384"
      },
      "source": [
        "device = torch.device(\"cuda:0\" if torch.cuda.is_available() else \"cpu\")\n",
        "print(device)"
      ],
      "execution_count": 41,
      "outputs": [
        {
          "output_type": "stream",
          "text": [
            "cuda:0\n"
          ],
          "name": "stdout"
        }
      ]
    },
    {
      "cell_type": "code",
      "metadata": {
        "id": "wwfnYuBeL6-9"
      },
      "source": [
        "# Define a Neural Network with 2 convolution layer for 3 channel images \n",
        "class Net2CL(nn.Module):\n",
        "  def __init__(self):\n",
        "    super(Net2CL, self).__init__()\n",
        "\n",
        "    # conv layers\n",
        "    self.conv1 = nn.Conv2d(3, 6, 5)\n",
        "    self.conv2 = nn.Conv2d(6, 16, 5)\n",
        "\n",
        "    # pooling layers\n",
        "    self.pool = nn.MaxPool2d(2, 2)\n",
        "    \n",
        "    # fully connected layers\n",
        "    self.fc1 = nn.Linear(16 * 5 * 5, 120)\n",
        "    self.fc2 = nn.Linear(120, 84)\n",
        "    self.fc3 = nn.Linear(84, 10)\n",
        "\n",
        "  def forward(self, x):\n",
        "    x = self.pool(F.relu(self.conv1(x)))\n",
        "    x = self.pool(F.relu(self.conv2(x)))\n",
        "\n",
        "    x = x.view(-1, 16 * 5 * 5)\n",
        "\n",
        "    x = F.relu(self.fc1(x))\n",
        "    x = F.relu(self.fc2(x))\n",
        "    x = self.fc3(x)\n",
        "    return x\n",
        "\n",
        "net2cl = Net2CL()\n",
        "net2cl = net2cl.to(device)"
      ],
      "execution_count": 42,
      "outputs": []
    },
    {
      "cell_type": "code",
      "metadata": {
        "colab": {
          "base_uri": "https://localhost:8080/"
        },
        "id": "hHLw4LnwWqHj",
        "outputId": "ccb40f67-4111-47c3-9d78-88f1ac715c7c"
      },
      "source": [
        "input_shape = image_shape # (3, 32, 32)\n",
        "summary(net2cl, input_shape)"
      ],
      "execution_count": 43,
      "outputs": [
        {
          "output_type": "stream",
          "text": [
            "----------------------------------------------------------------\n",
            "        Layer (type)               Output Shape         Param #\n",
            "================================================================\n",
            "            Conv2d-1            [-1, 6, 28, 28]             456\n",
            "         MaxPool2d-2            [-1, 6, 14, 14]               0\n",
            "            Conv2d-3           [-1, 16, 10, 10]           2,416\n",
            "         MaxPool2d-4             [-1, 16, 5, 5]               0\n",
            "            Linear-5                  [-1, 120]          48,120\n",
            "            Linear-6                   [-1, 84]          10,164\n",
            "            Linear-7                   [-1, 10]             850\n",
            "================================================================\n",
            "Total params: 62,006\n",
            "Trainable params: 62,006\n",
            "Non-trainable params: 0\n",
            "----------------------------------------------------------------\n",
            "Input size (MB): 0.01\n",
            "Forward/backward pass size (MB): 0.06\n",
            "Params size (MB): 0.24\n",
            "Estimated Total Size (MB): 0.31\n",
            "----------------------------------------------------------------\n"
          ],
          "name": "stdout"
        }
      ]
    },
    {
      "cell_type": "code",
      "metadata": {
        "id": "YbmTrCNnRY1G",
        "colab": {
          "base_uri": "https://localhost:8080/"
        },
        "outputId": "60aad7f0-31ac-4270-d53a-c081d699411b"
      },
      "source": [
        "# Define a Neural Network with 3 convolution layer for 3 channel images \n",
        "class Net3CL(nn.Module):\n",
        "  def __init__(self):\n",
        "    super(Net3CL, self).__init__()\n",
        "\n",
        "    # conv layers\n",
        "    self.conv1 = nn.Conv2d(3, 16, 3, padding=1)\n",
        "    self.conv2 = nn.Conv2d(16, 32, 3, padding=1)\n",
        "    self.conv3 = nn.Conv2d(32, 64, 3, padding=1)\n",
        "\n",
        "    # pooling layers\n",
        "    self.pool = nn.MaxPool2d(2, 2)\n",
        "    \n",
        "    # fully connected layers\n",
        "    self.fc1 = nn.Linear(64 * 4 * 4, 512)\n",
        "    self.fc2 = nn.Linear(512, 256)\n",
        "    self.fc3 = nn.Linear(256, 10)\n",
        "\n",
        "  def forward(self, x):\n",
        "    x = self.pool(F.relu(self.conv1(x)))\n",
        "    x = self.pool(F.relu(self.conv2(x)))\n",
        "    x = self.pool(F.relu(self.conv3(x)))\n",
        "\n",
        "    x = x.view(-1, 64 * 4 * 4)\n",
        "\n",
        "    x = F.relu(self.fc1(x))\n",
        "    x = F.relu(self.fc2(x))\n",
        "    x = self.fc3(x)\n",
        "    return x\n",
        "\n",
        "net3cl = Net3CL()\n",
        "net3cl = net3cl.to(device)\n",
        "summary(net3cl, input_shape)"
      ],
      "execution_count": 44,
      "outputs": [
        {
          "output_type": "stream",
          "text": [
            "----------------------------------------------------------------\n",
            "        Layer (type)               Output Shape         Param #\n",
            "================================================================\n",
            "            Conv2d-1           [-1, 16, 32, 32]             448\n",
            "         MaxPool2d-2           [-1, 16, 16, 16]               0\n",
            "            Conv2d-3           [-1, 32, 16, 16]           4,640\n",
            "         MaxPool2d-4             [-1, 32, 8, 8]               0\n",
            "            Conv2d-5             [-1, 64, 8, 8]          18,496\n",
            "         MaxPool2d-6             [-1, 64, 4, 4]               0\n",
            "            Linear-7                  [-1, 512]         524,800\n",
            "            Linear-8                  [-1, 256]         131,328\n",
            "            Linear-9                   [-1, 10]           2,570\n",
            "================================================================\n",
            "Total params: 682,282\n",
            "Trainable params: 682,282\n",
            "Non-trainable params: 0\n",
            "----------------------------------------------------------------\n",
            "Input size (MB): 0.01\n",
            "Forward/backward pass size (MB): 0.28\n",
            "Params size (MB): 2.60\n",
            "Estimated Total Size (MB): 2.89\n",
            "----------------------------------------------------------------\n"
          ],
          "name": "stdout"
        }
      ]
    },
    {
      "cell_type": "code",
      "metadata": {
        "colab": {
          "base_uri": "https://localhost:8080/"
        },
        "id": "X2ZVDcL0kQ6P",
        "outputId": "4725cbb0-9c7d-4984-cd6e-9f11f9d7ba06"
      },
      "source": [
        "# Define a Neural Network with 4 convolution layer for 3 channel images \n",
        "class Net4CL(nn.Module):\n",
        "  def __init__(self):\n",
        "    super(Net4CL, self).__init__()\n",
        "\n",
        "        # conv layers\n",
        "    self.conv1 = nn.Conv2d(3, 16, 3, padding=1)\n",
        "    self.conv2 = nn.Conv2d(16, 32, 3, padding=1)\n",
        "    self.conv3 = nn.Conv2d(32, 64, 3, padding=1)\n",
        "\n",
        "    # pooling layers\n",
        "    self.pool = nn.MaxPool2d(2, 2)\n",
        "\n",
        "    # dropout layer\n",
        "    self.dropout = nn.Dropout(0.1)\n",
        "    \n",
        "    # fully connected layers\n",
        "    self.fc1 = nn.Linear(64 * 4 * 4, 512)\n",
        "    # self.fc2 = nn.Linear(512, 256)\n",
        "    # self.fc3 = nn.Linear(256, 10)\n",
        "\n",
        "    self.fc2 = nn.Linear(512, 10)\n",
        "\n",
        "  def forward(self, x):\n",
        "    x = self.pool(F.relu(self.conv1(x)))\n",
        "    x = self.pool(F.relu(self.conv2(x)))\n",
        "    x = self.pool(F.relu(self.conv3(x)))\n",
        "\n",
        "    x = x.view(-1, 64 * 4 * 4)\n",
        "\n",
        "    # x = self.dropout(x)\n",
        "    x = F.relu(self.fc1(x))\n",
        "    x = self.dropout(x)\n",
        "    # x = F.relu(self.fc2(x))\n",
        "    # x = self.fc3(x)\n",
        "    x = self.fc2(x)\n",
        "    return x\n",
        "\n",
        "net4cl = Net4CL()\n",
        "net4cl = net4cl.to(device)\n",
        "\n",
        "summary(net4cl, input_shape)"
      ],
      "execution_count": 104,
      "outputs": [
        {
          "output_type": "stream",
          "text": [
            "----------------------------------------------------------------\n",
            "        Layer (type)               Output Shape         Param #\n",
            "================================================================\n",
            "            Conv2d-1           [-1, 16, 32, 32]             448\n",
            "         MaxPool2d-2           [-1, 16, 16, 16]               0\n",
            "            Conv2d-3           [-1, 32, 16, 16]           4,640\n",
            "         MaxPool2d-4             [-1, 32, 8, 8]               0\n",
            "            Conv2d-5             [-1, 64, 8, 8]          18,496\n",
            "         MaxPool2d-6             [-1, 64, 4, 4]               0\n",
            "            Linear-7                  [-1, 512]         524,800\n",
            "           Dropout-8                  [-1, 512]               0\n",
            "            Linear-9                   [-1, 10]           5,130\n",
            "================================================================\n",
            "Total params: 553,514\n",
            "Trainable params: 553,514\n",
            "Non-trainable params: 0\n",
            "----------------------------------------------------------------\n",
            "Input size (MB): 0.01\n",
            "Forward/backward pass size (MB): 0.28\n",
            "Params size (MB): 2.11\n",
            "Estimated Total Size (MB): 2.40\n",
            "----------------------------------------------------------------\n"
          ],
          "name": "stdout"
        }
      ]
    },
    {
      "cell_type": "markdown",
      "metadata": {
        "id": "iEPoKps1Jno2"
      },
      "source": [
        "## 3. Define a Loss function and optimizer"
      ]
    },
    {
      "cell_type": "markdown",
      "metadata": {
        "id": "3fBEAY6WlWvj"
      },
      "source": [
        "### Different Loss functions\n",
        "\n",
        "\n",
        "Regression\n",
        "    Mean Absolute Error Loss(L1)\n",
        "    Mean Squared Error Loss(L2)\n",
        "    Binary Cross-Entropy Loss\n",
        "    Cross-Entropy Loss\n",
        "    Negative Log-Likelihood Loss\n",
        "    Hinge Embedding Loss\n",
        "    Margin Ranking Loss\n",
        "    Triplet Margin Loss\n",
        "    Kullback-Leibler divergence\n",
        "\n",
        "Regression:\n",
        "\n",
        "    Mean Absolute Error — torch.nn.L1Loss()\n",
        "    Mean Squared Error — torch.nn.MSELoss()\n",
        "\n",
        "Classification:\n",
        "\n",
        "    Binary Cross Entropy Loss — torch.nn.BCELoss()\n",
        "    Binary Cross Entropy with Logits Loss — torch.nn.BCEWithLogitsLoss()\n",
        "    Negative Log Likelihood — torch.nn.NLLLoss()\n",
        "    CrossEntropyLoss — torch.nn.CrossEntropyLoss()\n",
        "\n",
        "https://heartbeat.fritz.ai/the-right-loss-function-pytorch-58d2c0d77404\n",
        "\n",
        "https://medium.com/udacity-pytorch-challengers/a-brief-overview-of-loss-functions-in-pytorch-c0ddb78068f7\n",
        "\n",
        "https://neptune.ai/blog/pytorch-loss-functions"
      ]
    },
    {
      "cell_type": "code",
      "metadata": {
        "id": "kKC3027bl9JU"
      },
      "source": [
        "def choose_loss_function(lf):\n",
        "  if lf == \"BCE\":\n",
        "    return nn.BCELoss()\n",
        "  elif lf == \"BCEwL\":\n",
        "    return nn.BCEWithLogitsLoss()\n",
        "  elif lf == \"NLL\":\n",
        "    return nn.NLLLoss()\n",
        "  elif lf == \"CE\":\n",
        "    return nn.CrossEntropyLoss()"
      ],
      "execution_count": 46,
      "outputs": []
    },
    {
      "cell_type": "markdown",
      "metadata": {
        "id": "TmWuMEvWk7Vx"
      },
      "source": [
        "### Different Optimizers\n",
        "\n",
        "1. torch.optim.Adagrad\n",
        "2. torch.optim.Adam\n",
        "3. torch.optim.Adamax\n",
        "4. torch.optim.ASGD\n",
        "5. torch.optim.LBFGS\n",
        "6. torch.optim.RMSProp\n",
        "7. torch.optim.Rprop\n",
        "8. torch.optim.SGD\n",
        "\n",
        "https://analyticsindiamag.com/ultimate-guide-to-pytorch-optimizers/"
      ]
    },
    {
      "cell_type": "code",
      "metadata": {
        "id": "Q3ebaojak6kn"
      },
      "source": [
        "learning_rate = 0.01\n",
        "\n",
        "def choose_optimiser(net, optimiser):\n",
        "\n",
        "  if optimiser == \"Adam\":\n",
        "    return optim.Adam(net.parameters(), lr=learning_rate)\n",
        "  elif optimiser == \"Adamax\":\n",
        "    return optim.Adamax(net.parameters(), lr=learning_rate)\n",
        "  elif optimiser == \"ASGD\":\n",
        "    return optim.ASGD(net.parameters(), lr=learning_rate)\n",
        "  elif optimiser == \"LBFGS\":\n",
        "    return optim.LBFGS(net.parameters(), lr=learning_rate)\n",
        "  elif optimiser == \"RMSprop\":\n",
        "    return  optim.RMSprop(net.parameters(), lr=learning_rate)\n",
        "  elif optimiser == \"Rprop\":\n",
        "    return  optim.Rprop(net.parameters(), lr=learning_rate)\n",
        "  elif optimiser == \"SGD\":\n",
        "    return optim.SGD(net.parameters(), lr=learning_rate, momentum=0.9)"
      ],
      "execution_count": 47,
      "outputs": []
    },
    {
      "cell_type": "markdown",
      "metadata": {
        "id": "Yz654BVjJxjd"
      },
      "source": [
        "### 4. Train the network"
      ]
    },
    {
      "cell_type": "code",
      "metadata": {
        "id": "_7hzL34RcBs-"
      },
      "source": [
        "# Train the network\n",
        "def fit(model, trainloader, optimizer, criterion):\n",
        "  print(\"Training Started..\")\n",
        "  for epoch in range(2):\n",
        "    running_loss = 0.0\n",
        "    for i, data in enumerate(trainloader, 0):\n",
        "      # get the inputs\n",
        "      inputs, labels = data\n",
        "\n",
        "      # Zero the parameter gradients\n",
        "      optimizer.zero_grad()\n",
        "\n",
        "      # Forward + backward + optimize\n",
        "      outputs = model(inputs)\n",
        "\n",
        "      loss = criterion(outputs, labels)\n",
        "      loss.backward()\n",
        "      optimizer.step()\n",
        "\n",
        "      #print statistics\n",
        "      running_loss += loss.item()\n",
        "      if i % 2000 == 1999: # print every 2000 mini-batches\n",
        "        print('[%d, %5d] loss: %.3f' %(epoch + 1, i + 1, running_loss / 2000))\n",
        "        running_loss = 0.0\n",
        "\n",
        "  print(\"Training Finished.\")\n"
      ],
      "execution_count": 48,
      "outputs": []
    },
    {
      "cell_type": "code",
      "metadata": {
        "id": "S5q2eTD0lxPS"
      },
      "source": [
        "def choose_model(model):\n",
        "  if model == \"Net2CL\":\n",
        "    return Net2CL()\n",
        "  elif model == \"Net3CL\":\n",
        "    return Net3CL()\n",
        "  elif model == \"Net4CL\":\n",
        "    return Net4CL()"
      ],
      "execution_count": 49,
      "outputs": []
    },
    {
      "cell_type": "code",
      "metadata": {
        "id": "gI1F7PSKz7MK"
      },
      "source": [
        "PATH = ''\n",
        "def save_model(net, model):\n",
        "  # lets save our trained model\n",
        "  PATH = './cifer_'+net+'.pth'\n",
        "  torch.save(model.state_dict(), PATH)"
      ],
      "execution_count": 50,
      "outputs": []
    },
    {
      "cell_type": "code",
      "metadata": {
        "colab": {
          "base_uri": "https://localhost:8080/"
        },
        "id": "_ne_MiVRcJjw",
        "outputId": "1a2bf9ae-b9b3-403c-a524-4f53105bbfbc"
      },
      "source": [
        "# SGD optimizer & Cross_Entropy_Loss\n",
        "net = \"Net2CL\" # Net2CL - 2 conv layer net, Net3CL - 3 conv layer net, Net4CL - 4 conv layer net\n",
        "model = choose_model(net)\n",
        "opt = \"SGD\" # SGD - Stocastic, \n",
        "optimizer = choose_optimiser(model, opt)\n",
        "\n",
        "lf = \"CE\" #CE - Cross Entropy, BCE - BCELoss, BCEwL - BCE with Logits loss, NLL - NLLLoss, \n",
        "criterion = choose_loss_function(lf)\n",
        "\n",
        "fit(model, trainloader, optimizer, criterion)\n",
        "\n",
        "save_model(net, model)"
      ],
      "execution_count": 51,
      "outputs": [
        {
          "output_type": "stream",
          "text": [
            "Training Started..\n",
            "[1,  2000] loss: 2.247\n",
            "[1,  4000] loss: 1.993\n",
            "[1,  6000] loss: 1.743\n",
            "[1,  8000] loss: 1.614\n",
            "[1, 10000] loss: 1.542\n",
            "[1, 12000] loss: 1.496\n",
            "[2,  2000] loss: 1.424\n",
            "[2,  4000] loss: 1.386\n",
            "[2,  6000] loss: 1.353\n",
            "[2,  8000] loss: 1.348\n",
            "[2, 10000] loss: 1.317\n",
            "[2, 12000] loss: 1.285\n",
            "Training Finished.\n"
          ],
          "name": "stdout"
        }
      ]
    },
    {
      "cell_type": "markdown",
      "metadata": {
        "id": "uI8eP9JBmROW"
      },
      "source": [
        "### 5. Test the network on the test data\n",
        "\n",
        "we have trained the network, now let's check if it has learnt anything\n",
        "\n",
        "we will predict this by predicting the class label"
      ]
    },
    {
      "cell_type": "code",
      "metadata": {
        "colab": {
          "base_uri": "https://localhost:8080/",
          "height": 155
        },
        "id": "ZlIhy2Lmmv38",
        "outputId": "727bc74a-c0ba-4b82-c17b-0b077bcacd2a"
      },
      "source": [
        "dataiter = iter(testloader)\n",
        "images, labels = dataiter.next()\n",
        "\n",
        "#print images\n",
        "imshow(torchvision.utils.make_grid(images))\n",
        "print('GroundTruth: ', ' '.join('%5s' %classes[labels[j]] for j in range(4)))"
      ],
      "execution_count": 52,
      "outputs": [
        {
          "output_type": "display_data",
          "data": {
            "image/png": "[encoded data removed]",
            "text/plain": [
              "<Figure size 432x288 with 1 Axes>"
            ]
          },
          "metadata": {
            "tags": [],
            "needs_background": "light"
          }
        },
        {
          "output_type": "stream",
          "text": [
            "GroundTruth:    cat  ship  ship plane\n"
          ],
          "name": "stdout"
        }
      ]
    },
    {
      "cell_type": "code",
      "metadata": {
        "id": "DadRdj3ynVpr"
      },
      "source": [
        "# model.load_state_dict(torch.load(PATH))"
      ],
      "execution_count": 53,
      "outputs": []
    },
    {
      "cell_type": "code",
      "metadata": {
        "id": "tqskIcyvni8i"
      },
      "source": [
        "outputs = model(images)"
      ],
      "execution_count": 54,
      "outputs": []
    },
    {
      "cell_type": "code",
      "metadata": {
        "colab": {
          "base_uri": "https://localhost:8080/"
        },
        "id": "8hKLNt0fnnb6",
        "outputId": "7beb0f51-8414-4f4c-fecc-545a0f13667e"
      },
      "source": [
        "_, predicted = torch.max(outputs, 1)\n",
        "print('Predicted: ', ' '.join('%5s' %classes[predicted[j]] for j in range(4)))"
      ],
      "execution_count": 55,
      "outputs": [
        {
          "output_type": "stream",
          "text": [
            "Predicted:    cat  ship  ship  ship\n"
          ],
          "name": "stdout"
        }
      ]
    },
    {
      "cell_type": "markdown",
      "metadata": {
        "id": "2H3S2mytoNFS"
      },
      "source": [
        "Lets see how the network performs on the whole dataset"
      ]
    },
    {
      "cell_type": "code",
      "metadata": {
        "id": "btToOVRsoSVS"
      },
      "source": [
        "# function to calcualte accuracy\n",
        "def accuracy(net, dataloader):\n",
        "  correct = 0\n",
        "  total = 0\n",
        "  with torch.no_grad():\n",
        "    for data in dataloader:\n",
        "      images, labels = data\n",
        "      outputs = net(images)\n",
        "      _, predicted = torch.max(outputs, 1)\n",
        "      total += labels.size(0)\n",
        "      correct += (predicted == labels).sum().item()\n",
        "\n",
        "  print('Accuracy of the network on the 10000 test images: %d%%' %(100*correct / total))"
      ],
      "execution_count": 56,
      "outputs": []
    },
    {
      "cell_type": "code",
      "metadata": {
        "colab": {
          "base_uri": "https://localhost:8080/"
        },
        "id": "bnaRMG6Egfpf",
        "outputId": "888072b4-141a-42f2-c553-847b85be4c45"
      },
      "source": [
        "# total accuracy on test images\n",
        "accuracy(model, testloader)"
      ],
      "execution_count": 57,
      "outputs": [
        {
          "output_type": "stream",
          "text": [
            "Accuracy of the network on the 10000 test images: 55%\n"
          ],
          "name": "stdout"
        }
      ]
    },
    {
      "cell_type": "markdown",
      "metadata": {
        "id": "YF2RFJgkpkMV"
      },
      "source": [
        "let's see what are the classes performed well"
      ]
    },
    {
      "cell_type": "code",
      "metadata": {
        "id": "wJCXKiPOphzT"
      },
      "source": [
        "class_correct = list(0 for i in range(10))\n",
        "class_total = list(0 for i in range(10))\n",
        "class_accuracy = list(0 for i in range(10))\n",
        "\n",
        "def accuracy_of_classes(net, dataloader):\n",
        "  with torch.no_grad():\n",
        "    for data in dataloader:\n",
        "      images, labels = data\n",
        "      outputs = net(images)\n",
        "      _, predicted = torch.max(outputs, 1)\n",
        "      c = (predicted == labels).squeeze()\n",
        "      for i in range(4):\n",
        "        label = labels[i]\n",
        "        class_correct[label] += c[i].item()\n",
        "        class_total[label] += 1\n",
        "\n",
        "  for i in range(10):\n",
        "    class_accuracy[i] = 100 * class_correct[i] / class_total[i]\n",
        "    print('Accuracy of %5s : %2d %%' %(classes[i], 100 * class_correct[i] / class_total[i]))"
      ],
      "execution_count": 58,
      "outputs": []
    },
    {
      "cell_type": "code",
      "metadata": {
        "colab": {
          "base_uri": "https://localhost:8080/"
        },
        "id": "CGBNQdDkeIvA",
        "outputId": "a0200502-b3ab-46c3-d259-2c7e91964f2c"
      },
      "source": [
        "# accuracy of classes on test images\n",
        "accuracy_of_classes(model, testloader)"
      ],
      "execution_count": 59,
      "outputs": [
        {
          "output_type": "stream",
          "text": [
            "Accuracy of plane : 44 %\n",
            "Accuracy of   car : 61 %\n",
            "Accuracy of  bird : 29 %\n",
            "Accuracy of   cat : 31 %\n",
            "Accuracy of  deer : 61 %\n",
            "Accuracy of   dog : 41 %\n",
            "Accuracy of  frog : 72 %\n",
            "Accuracy of horse : 65 %\n",
            "Accuracy of  ship : 72 %\n",
            "Accuracy of truck : 71 %\n"
          ],
          "name": "stdout"
        }
      ]
    },
    {
      "cell_type": "code",
      "metadata": {
        "colab": {
          "base_uri": "https://localhost:8080/",
          "height": 279
        },
        "id": "OrF8o_aGT9Qw",
        "outputId": "2e154a02-870c-4f9c-8d19-1db325be0954"
      },
      "source": [
        "plt.bar(classes, class_accuracy)\n",
        "plt.xlabel(\"Class\")\n",
        "plt.ylabel(\"Accuracy\")\n",
        "plt.show()"
      ],
      "execution_count": 60,
      "outputs": [
        {
          "output_type": "display_data",
          "data": {
            "image/png": "[encoded data removed]",
            "text/plain": [
              "<Figure size 432x288 with 1 Axes>"
            ]
          },
          "metadata": {
            "tags": [],
            "needs_background": "light"
          }
        }
      ]
    },
    {
      "cell_type": "code",
      "metadata": {
        "colab": {
          "base_uri": "https://localhost:8080/"
        },
        "id": "jWh6sPO5675x",
        "outputId": "0c603434-b69c-4b81-dc65-dbd3379f03cf"
      },
      "source": [
        "# SGD optimizer & Cross_Entropy_Loss\n",
        "net = \"Net3CL\" # Net2CL - 2 conv layer net, Net3CL - 3 conv layer net, Net4CL - 4 conv layer net\n",
        "model = choose_model(net)\n",
        "opt = \"Adam\" # SGD - Stocastic, \n",
        "optimizer = choose_optimiser(model, opt)\n",
        "\n",
        "lf = \"CE\" #CE - Cross Entropy, BCE - BCELoss, BCEwL - BCE with Logits loss, NLL - NLLLoss, \n",
        "criterion = choose_loss_function(lf)\n",
        "\n",
        "fit(model, trainloader, optimizer, criterion)\n",
        "\n",
        "save_model(net, model)"
      ],
      "execution_count": 61,
      "outputs": [
        {
          "output_type": "stream",
          "text": [
            "Training Started..\n",
            "[1,  2000] loss: 1.854\n",
            "[1,  4000] loss: 1.518\n",
            "[1,  6000] loss: 1.401\n",
            "[1,  8000] loss: 1.332\n",
            "[1, 10000] loss: 1.244\n",
            "[1, 12000] loss: 1.188\n",
            "[2,  2000] loss: 1.100\n",
            "[2,  4000] loss: 1.058\n",
            "[2,  6000] loss: 1.057\n",
            "[2,  8000] loss: 1.045\n",
            "[2, 10000] loss: 1.012\n",
            "[2, 12000] loss: 1.010\n",
            "Training Finished.\n"
          ],
          "name": "stdout"
        }
      ]
    },
    {
      "cell_type": "code",
      "metadata": {
        "colab": {
          "base_uri": "https://localhost:8080/"
        },
        "id": "ZaBaya1x760U",
        "outputId": "4e15377d-d1ed-4988-efe9-8f95b2017c0a"
      },
      "source": [
        "# total accuracy on test images\n",
        "accuracy(model, testloader)"
      ],
      "execution_count": 62,
      "outputs": [
        {
          "output_type": "stream",
          "text": [
            "Accuracy of the network on the 10000 test images: 65%\n"
          ],
          "name": "stdout"
        }
      ]
    },
    {
      "cell_type": "code",
      "metadata": {
        "colab": {
          "base_uri": "https://localhost:8080/"
        },
        "id": "rNJ5OG-X65kH",
        "outputId": "a58192f0-6c27-48b5-fef7-4dae93d75af3"
      },
      "source": [
        "# SGD optimizer & Cross_Entropy_Loss\n",
        "net = \"Net4CL\" # Net2CL - 2 conv layer net, Net3CL - 3 conv layer net, Net4CL - 4 conv layer net\n",
        "model = choose_model(net)\n",
        "\n",
        "# opt = \"Adam\" # SGD - Stocastic, \n",
        "opt = \"SGD\" # SGD - Stocastic, \n",
        "optimizer = choose_optimiser(model, opt)\n",
        "# optimizer = optim.Adam(Net4CL().parameters())\n",
        "\n",
        "lf = \"CE\" #CE - Cross Entropy, BCE - BCELoss, BCEwL - BCE with Logits loss, NLL - NLLLoss, \n",
        "criterion = choose_loss_function(lf)\n",
        "\n",
        "fit(model, trainloader, optimizer, criterion)\n",
        "\n",
        "save_model(net, model)"
      ],
      "execution_count": 105,
      "outputs": [
        {
          "output_type": "stream",
          "text": [
            "Training Started..\n",
            "[1,  2000] loss: 2.119\n",
            "[1,  4000] loss: 1.743\n",
            "[1,  6000] loss: 1.549\n",
            "[1,  8000] loss: 1.443\n",
            "[1, 10000] loss: 1.361\n",
            "[1, 12000] loss: 1.281\n",
            "[2,  2000] loss: 1.185\n",
            "[2,  4000] loss: 1.140\n",
            "[2,  6000] loss: 1.095\n",
            "[2,  8000] loss: 1.041\n",
            "[2, 10000] loss: 1.020\n",
            "[2, 12000] loss: 1.019\n",
            "Training Finished.\n"
          ],
          "name": "stdout"
        }
      ]
    },
    {
      "cell_type": "code",
      "metadata": {
        "colab": {
          "base_uri": "https://localhost:8080/"
        },
        "id": "NCKIq3Sx77g3",
        "outputId": "98ef8e4f-cd7c-4aa2-b396-69e1d105e9f1"
      },
      "source": [
        "# total accuracy on test images\n",
        "accuracy(model, testloader)"
      ],
      "execution_count": 106,
      "outputs": [
        {
          "output_type": "stream",
          "text": [
            "Accuracy of the network on the 10000 test images: 65%\n"
          ],
          "name": "stdout"
        }
      ]
    },
    {
      "cell_type": "code",
      "metadata": {
        "colab": {
          "base_uri": "https://localhost:8080/"
        },
        "id": "9wavDxd3FRdu",
        "outputId": "61f73b19-465b-45d4-c845-3a26d9b22127"
      },
      "source": [
        "# accuracy of classes on test images\n",
        "accuracy_of_classes(model, testloader)"
      ],
      "execution_count": 107,
      "outputs": [
        {
          "output_type": "stream",
          "text": [
            "Accuracy of plane : 58 %\n",
            "Accuracy of   car : 64 %\n",
            "Accuracy of  bird : 41 %\n",
            "Accuracy of   cat : 31 %\n",
            "Accuracy of  deer : 49 %\n",
            "Accuracy of   dog : 38 %\n",
            "Accuracy of  frog : 75 %\n",
            "Accuracy of horse : 54 %\n",
            "Accuracy of  ship : 60 %\n",
            "Accuracy of truck : 53 %\n"
          ],
          "name": "stdout"
        }
      ]
    },
    {
      "cell_type": "markdown",
      "metadata": {
        "id": "raGzqN-JIUGs"
      },
      "source": [
        "# References\n",
        "\n",
        "https://www.cs.toronto.edu/~kriz/cifar.html\n",
        "\n",
        "https://pytorch.org/tutorials/beginner/blitz/cifar10_tutorial.html\n",
        "\n",
        "https://towardsdatascience.com/pytorch-basics-how-to-train-your-neural-net-intro-to-cnn-26a14c2ea29\n",
        "\n",
        "\n",
        "\n"
      ]
    },
    {
      "cell_type": "code",
      "metadata": {
        "id": "MyUkU45NIeCk"
      },
      "source": [
        ""
      ],
      "execution_count": 65,
      "outputs": []
    }
  ]
}